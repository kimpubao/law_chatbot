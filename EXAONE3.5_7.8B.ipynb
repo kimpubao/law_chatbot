{
 "cells": [
  {
   "cell_type": "markdown",
   "id": "aafc6dfc",
   "metadata": {},
   "source": [
    "# 1. 경로 정의 및 폴더 구조 설정"
   ]
  },
  {
   "cell_type": "code",
   "execution_count": null,
   "id": "9f963808",
   "metadata": {},
   "outputs": [],
   "source": [
    "import os\n",
    "\n",
    "base_path = \"/mnt/e/chatbot_project_data/law_chatbot_dataset\"\n",
    "folders = {\n",
    "    \"terms_json\": os.path.join(base_path, \"law_knowledge_base\", \"법령용어\"),\n",
    "    \"ontology_json\": os.path.join(base_path, \"law_knowledge_base\", \"법령지식\"),\n",
    "    \"ontology_nt\": os.path.join(base_path, \"law_knowledge_base\", \"법률 데이터\"),\n",
    "    \"ontology_owl\": os.path.join(base_path, \"law_knowledge_base\", \"온톨로지_모델\"),\n",
    "    \"relationship_json\": os.path.join(base_path, \"law_Knowledge_Based_Relationship_Data\"),\n",
    "}"
   ]
  },
  {
   "cell_type": "markdown",
   "id": "034ae6f1",
   "metadata": {},
   "source": [
    "# 2. JSON, RDF 파일 로딩 함수 정의"
   ]
  },
  {
   "cell_type": "code",
   "execution_count": null,
   "id": "3bbf44c9",
   "metadata": {},
   "outputs": [],
   "source": [
    "import json\n",
    "from rdflib import Graph\n",
    "\n",
    "def load_json_files(folder_path):\n",
    "    data = []\n",
    "    for root, _, files in os.walk(folder_path):\n",
    "        for file in files:\n",
    "            if file.lower().endswith(\".json\"):\n",
    "                try:\n",
    "                    with open(os.path.join(root, file), encoding=\"utf-8\") as f:\n",
    "                        content = json.load(f)\n",
    "                        data.extend(content if isinstance(content, list) else [content])\n",
    "                except Exception as e:\n",
    "                    print(f\"{file} JSON 로딩 실패: {e}\")\n",
    "    return data\n",
    "\n",
    "def load_rdf_files(folder_path):\n",
    "    graphs = []\n",
    "    for root, _, files in os.walk(folder_path):\n",
    "        for file in files:\n",
    "            if file.endswith(\".nt\") or file.endswith(\".owl\"):\n",
    "                g = Graph()\n",
    "                try:\n",
    "                    g.parse(os.path.join(root, file), format=\"nt\" if file.endswith(\".nt\") else \"xml\")\n",
    "                    graphs.append(g)\n",
    "                except Exception as e:\n",
    "                    print(f\"{file} RDF 로딩 실패: {e}\")\n",
    "    return graphs"
   ]
  },
  {
   "cell_type": "markdown",
   "id": "f7a0f02a",
   "metadata": {},
   "source": [
    "# 3. 전처리 및 용어, 트리플, 관계 정보 추출"
   ]
  },
  {
   "cell_type": "code",
   "execution_count": null,
   "id": "1cd8e494",
   "metadata": {},
   "outputs": [],
   "source": [
    "import pandas as pd\n",
    "\n",
    "def extract_triples(graphs):\n",
    "    triples = []\n",
    "    for g in graphs:\n",
    "        for s, p, o in g:\n",
    "            triples.append({\"subject\": str(s), \"predicate\": str(p), \"object\": str(o)})\n",
    "    return pd.DataFrame(triples)\n",
    "\n",
    "def extract_qa_from_label_json(folder_path):\n",
    "    qa_data = []\n",
    "    for root, _, files in os.walk(folder_path):\n",
    "        for file in files:\n",
    "            if file.endswith(\".json\"):\n",
    "                try:\n",
    "                    with open(os.path.join(root, file), encoding=\"utf-8\") as f:\n",
    "                        content = json.load(f)\n",
    "                        if isinstance(content, dict):\n",
    "                            q = content.get(\"질문\") or content.get(\"question\")\n",
    "                            a = content.get(\"답변\") or content.get(\"answer\")\n",
    "                            if q and a:\n",
    "                                qa_data.append({\"question\": q, \"answer\": a})\n",
    "                except:\n",
    "                    pass\n",
    "    return pd.DataFrame(qa_data)"
   ]
  },
  {
   "cell_type": "markdown",
   "id": "717fc557",
   "metadata": {},
   "source": [
    "# 4. 데이터 로드"
   ]
  },
  {
   "cell_type": "code",
   "execution_count": null,
   "id": "95b91fc7",
   "metadata": {},
   "outputs": [],
   "source": [
    "law_qa_df = extract_qa_from_label_json(folders[\"relationship_json\"])\n",
    "law_triple_df = extract_triples(load_rdf_files(folders[\"ontology_nt\"]))\n",
    "terms_dict = {\n",
    "    item[\"용어\"]: item[\"정의\"] for item in load_json_files(folders[\"terms_json\"])\n",
    "    if isinstance(item, dict) and \"용어\" in item and \"정의\" in item\n",
    "}"
   ]
  },
  {
   "cell_type": "markdown",
   "id": "49b19b4e",
   "metadata": {},
   "source": [
    "# 5. SBERT 임베딩 + FAISS 인덱스 구축"
   ]
  },
  {
   "cell_type": "code",
   "execution_count": null,
   "id": "1e2cd297",
   "metadata": {},
   "outputs": [],
   "source": [
    "from sentence_transformers import SentenceTransformer\n",
    "import faiss\n",
    "\n",
    "embedder = SentenceTransformer(\"snunlp/KR-SBERT-V40K-klueNLI-augSTS\")\n",
    "corpus = law_qa_df[\"question\"].tolist()\n",
    "corpus_embeddings = embedder.encode(corpus, convert_to_numpy=True)\n",
    "\n",
    "index = faiss.IndexFlatL2(corpus_embeddings.shape[1])\n",
    "index.add(corpus_embeddings)\n",
    "\n",
    "def search_similar_questions(user_question, top_k=1):\n",
    "    query_embedding = embedder.encode(user_question, convert_to_numpy=True)\n",
    "    D, I = index.search(query_embedding.reshape(1, -1), top_k)\n",
    "    return [(law_qa_df.iloc[i][\"question\"], law_qa_df.iloc[i][\"answer\"]) for i in I[0]]"
   ]
  },
  {
   "cell_type": "markdown",
   "id": "b2a1a522",
   "metadata": {},
   "source": [
    "# 6. EXAONE 모델 불러오기"
   ]
  },
  {
   "cell_type": "code",
   "execution_count": null,
   "id": "0666d48e",
   "metadata": {},
   "outputs": [],
   "source": [
    "from transformers import AutoTokenizer, AutoModelForCausalLM\n",
    "import torch\n",
    "\n",
    "tokenizer = AutoTokenizer.from_pretrained(\"LGAI-EXAONE/EXAONE-3.5-7.8B-instruct\", trust_remote_code=True)\n",
    "model = AutoModelForCausalLM.from_pretrained(\n",
    "    \"LGAI-EXAONE/EXAONE-3.5-7.8B-instruct\",\n",
    "    device_map=\"auto\", torch_dtype=torch.float16, trust_remote_code=True\n",
    ")\n",
    "\n",
    "def ask_exaone(prompt, max_new_tokens=256):\n",
    "    input_ids = tokenizer(prompt, return_tensors=\"pt\").input_ids.cuda()\n",
    "    output = model.generate(input_ids, max_new_tokens=max_new_tokens, do_sample=True, top_p=0.9, temperature=0.8)\n",
    "    return tokenizer.decode(output[0], skip_special_tokens=True).replace(prompt, \"\").strip()"
   ]
  },
  {
   "cell_type": "markdown",
   "id": "ec9015f8",
   "metadata": {},
   "source": [
    "# 7. 보조 응답 로직 정의"
   ]
  },
  {
   "cell_type": "code",
   "execution_count": null,
   "id": "199154b0",
   "metadata": {},
   "outputs": [],
   "source": [
    "def lookup_legal_term_definition(user_input):\n",
    "    for term in terms_dict:\n",
    "        if term in user_input:\n",
    "            return f\"{term}'의 정의: {terms_dict[term]}\"\n",
    "    return None\n",
    "\n",
    "def search_rdf_triple(user_input):\n",
    "    results = []\n",
    "    for _, row in law_triple_df.iterrows():\n",
    "        if row[\"subject\"] in user_input or row[\"object\"] in user_input:\n",
    "            results.append(f\"{row['subject']} -[{row['predicate']}]-> {row['object']}\")\n",
    "        if len(results) >= 3:\n",
    "            break\n",
    "    return \"\\n\".join(results) if results else None"
   ]
  },
  {
   "cell_type": "markdown",
   "id": "bb0f7dbe",
   "metadata": {},
   "source": [
    "# 8. 통합 챗봇 응답"
   ]
  },
  {
   "cell_type": "code",
   "execution_count": null,
   "id": "d6dec7e9",
   "metadata": {},
   "outputs": [],
   "source": [
    "def smart_legal_chat(user_input):\n",
    "    term_def = lookup_legal_term_definition(user_input)\n",
    "    if term_def:\n",
    "        return term_def\n",
    "\n",
    "    rdf_info = search_rdf_triple(user_input)\n",
    "    if rdf_info:\n",
    "        return f\"RDF 기반 관련 정보:\\n{rdf_info}\"\n",
    "\n",
    "    top_qas = search_similar_questions(user_input, top_k=1)\n",
    "    if top_qas:\n",
    "        retrieved_q, retrieved_a = top_qas[0]\n",
    "        prompt = f\"사용자 질문: {user_input}\\n\\n관련된 기존 질문: {retrieved_q}\\n\\n기존 답변: {retrieved_a}\\n\\n이 내용을 참고하여 사용자 질문에 대해 자세히 설명해주세요.\"\n",
    "    else:\n",
    "        prompt = f\"{user_input}에 대해 자세히 설명해주세요.\"\n",
    "\n",
    "    return ask_exaone(prompt)"
   ]
  },
  {
   "cell_type": "markdown",
   "id": "bc2df6f2",
   "metadata": {},
   "source": [
    "# 9. 실행"
   ]
  },
  {
   "cell_type": "code",
   "execution_count": null,
   "id": "6ee1fae2",
   "metadata": {},
   "outputs": [],
   "source": [
    "question = input(\"질문을 입력하세요: \")\n",
    "print(\"\\n챗봇 응답:\\n\")\n",
    "print(smart_legal_chat(question))"
   ]
  }
 ],
 "metadata": {
  "kernelspec": {
   "display_name": ".venv",
   "language": "python",
   "name": "python3"
  },
  "language_info": {
   "codemirror_mode": {
    "name": "ipython",
    "version": 3
   },
   "file_extension": ".py",
   "mimetype": "text/x-python",
   "name": "python",
   "nbconvert_exporter": "python",
   "pygments_lexer": "ipython3",
   "version": "3.10.12"
  }
 },
 "nbformat": 4,
 "nbformat_minor": 5
}
