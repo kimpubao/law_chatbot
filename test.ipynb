{
 "cells": [
  {
   "cell_type": "markdown",
   "id": "21c56640",
   "metadata": {},
   "source": [
    "# 1. JSON 구조 미리보기\n",
    "- 우선 샘플 1개 파일을 열어서 실제 키 이름이 무엇인지 확인"
   ]
  },
  {
   "cell_type": "code",
   "execution_count": null,
   "id": "49dcf24c",
   "metadata": {},
   "outputs": [],
   "source": [
    "# 경로 내 JSON 하나 미리 열기\n",
    "import os\n",
    "import json\n",
    "\n",
    "# 실제 있는 파일 하나 예시 (경로 수정 가능)\n",
    "sample_json = None\n",
    "\n",
    "for root, _, files in os.walk(qa_data_root):\n",
    "    for file in files:\n",
    "        if file.endswith(\".json\"):\n",
    "            sample_json = os.path.join(root, file)\n",
    "            break\n",
    "\n",
    "# 열어서 구조 보기\n",
    "if sample_json:\n",
    "    print(\"✅ 샘플 파일:\", sample_json)\n",
    "    with open(sample_json, encoding=\"utf-8\") as f:\n",
    "        content = json.load(f)\n",
    "        print(\"📦 JSON 타입:\", type(content))\n",
    "        if isinstance(content, list):\n",
    "            print(\"🔍 첫 항목:\", content[0])\n",
    "        elif isinstance(content, dict):\n",
    "            print(\"🔍 키 목록:\", content.keys())\n",
    "else:\n",
    "    print(\"❌ JSON 파일을 찾을 수 없습니다.\")"
   ]
  },
  {
   "cell_type": "markdown",
   "id": "803275d4",
   "metadata": {},
   "source": [
    "# 1. 라이브러리 및 경로 설정"
   ]
  },
  {
   "cell_type": "code",
   "execution_count": 15,
   "id": "01bf0382",
   "metadata": {},
   "outputs": [],
   "source": [
    "import os\n",
    "import json\n",
    "import pandas as pd"
   ]
  },
  {
   "cell_type": "markdown",
   "id": "e4392c97",
   "metadata": {},
   "source": [
    "# 2. QA JSON 루트 경로 지정"
   ]
  },
  {
   "cell_type": "code",
   "execution_count": 16,
   "id": "946c261b",
   "metadata": {},
   "outputs": [],
   "source": [
    "qa_data_root = \"/mnt/e/chatbot_project_data/law_chatbot_dataset/Law_Regulations_Text_Analysis_Data\""
   ]
  },
  {
   "cell_type": "markdown",
   "id": "f001c302",
   "metadata": {},
   "source": [
    "# 3. 모든 하위 JSON에서 질문/답변 추출"
   ]
  },
  {
   "cell_type": "code",
   "execution_count": 17,
   "id": "2a8439ce",
   "metadata": {},
   "outputs": [],
   "source": [
    "def extract_qa_from_clause_json(folder_path):\n",
    "    qa_pairs = []\n",
    "    for root, _, files in os.walk(folder_path):\n",
    "        for file in files:\n",
    "            if file.lower().endswith(\".json\"):\n",
    "                try:\n",
    "                    with open(os.path.join(root, file), encoding=\"utf-8\") as f:\n",
    "                        data = json.load(f)\n",
    "                        if isinstance(data, dict):\n",
    "                            # 예시 질문 생성\n",
    "                            q = \"이 조항이 소비자에게 불리한가요?\"\n",
    "                            a = data.get(\"unfavorableProvision\") or data.get(\"dvAntageous\")\n",
    "                            if a and isinstance(a, str) and len(a.strip()) > 0:\n",
    "                                qa_pairs.append({\n",
    "                                    \"question\": q,\n",
    "                                    \"answer\": a.strip()\n",
    "                                })\n",
    "                except Exception as e:\n",
    "                    print(f\"[스킵] {file} 실패: {e}\")\n",
    "    return pd.DataFrame(qa_pairs)"
   ]
  },
  {
   "cell_type": "markdown",
   "id": "dcb53603",
   "metadata": {},
   "source": [
    "# 4. QA 데이터 로딩 + 컬럼 확인"
   ]
  },
  {
   "cell_type": "code",
   "execution_count": 13,
   "id": "4e83976e",
   "metadata": {},
   "outputs": [
    {
     "name": "stdout",
     "output_type": "stream",
     "text": [
      "📌 컬럼: ['question', 'answer']\n",
      "📌 로딩 수: 9000\n"
     ]
    }
   ],
   "source": [
    "# 다시 로딩\n",
    "law_qa_df = extract_qa_from_clause_json(qa_data_root)\n",
    "\n",
    "print(\"📌 컬럼:\", law_qa_df.columns.tolist())\n",
    "print(\"📌 로딩 수:\", len(law_qa_df))"
   ]
  },
  {
   "cell_type": "markdown",
   "id": "b4148550",
   "metadata": {},
   "source": [
    "# 5. 상위 5개 질문/답변 확인"
   ]
  },
  {
   "cell_type": "code",
   "execution_count": 14,
   "id": "2bd13f97",
   "metadata": {},
   "outputs": [
    {
     "data": {
      "text/html": [
       "<div>\n",
       "<style scoped>\n",
       "    .dataframe tbody tr th:only-of-type {\n",
       "        vertical-align: middle;\n",
       "    }\n",
       "\n",
       "    .dataframe tbody tr th {\n",
       "        vertical-align: top;\n",
       "    }\n",
       "\n",
       "    .dataframe thead th {\n",
       "        text-align: right;\n",
       "    }\n",
       "</style>\n",
       "<table border=\"1\" class=\"dataframe\">\n",
       "  <thead>\n",
       "    <tr style=\"text-align: right;\">\n",
       "      <th></th>\n",
       "      <th>question</th>\n",
       "      <th>answer</th>\n",
       "    </tr>\n",
       "  </thead>\n",
       "  <tbody>\n",
       "    <tr>\n",
       "      <th>0</th>\n",
       "      <td>이 조항이 소비자에게 불리한가요?</td>\n",
       "      <td>1</td>\n",
       "    </tr>\n",
       "    <tr>\n",
       "      <th>1</th>\n",
       "      <td>이 조항이 소비자에게 불리한가요?</td>\n",
       "      <td>1</td>\n",
       "    </tr>\n",
       "    <tr>\n",
       "      <th>2</th>\n",
       "      <td>이 조항이 소비자에게 불리한가요?</td>\n",
       "      <td>1</td>\n",
       "    </tr>\n",
       "    <tr>\n",
       "      <th>3</th>\n",
       "      <td>이 조항이 소비자에게 불리한가요?</td>\n",
       "      <td>1</td>\n",
       "    </tr>\n",
       "    <tr>\n",
       "      <th>4</th>\n",
       "      <td>이 조항이 소비자에게 불리한가요?</td>\n",
       "      <td>1</td>\n",
       "    </tr>\n",
       "  </tbody>\n",
       "</table>\n",
       "</div>"
      ],
      "text/plain": [
       "             question answer\n",
       "0  이 조항이 소비자에게 불리한가요?      1\n",
       "1  이 조항이 소비자에게 불리한가요?      1\n",
       "2  이 조항이 소비자에게 불리한가요?      1\n",
       "3  이 조항이 소비자에게 불리한가요?      1\n",
       "4  이 조항이 소비자에게 불리한가요?      1"
      ]
     },
     "execution_count": 14,
     "metadata": {},
     "output_type": "execute_result"
    }
   ],
   "source": [
    "law_qa_df.head(5)"
   ]
  },
  {
   "cell_type": "code",
   "execution_count": 18,
   "id": "225b111c",
   "metadata": {},
   "outputs": [
    {
     "name": "stdout",
     "output_type": "stream",
     "text": [
      "(9000, 2)\n",
      "Index(['question', 'answer'], dtype='object')\n"
     ]
    }
   ],
   "source": [
    "print(law_qa_df.shape)  # (0, 0)이라면 비어있음\n",
    "print(law_qa_df.columns)  # 실제 컬럼이 있는지 확인"
   ]
  },
  {
   "cell_type": "markdown",
   "id": "b6c95510",
   "metadata": {},
   "source": [
    "# QA 파일 따로 저장"
   ]
  },
  {
   "cell_type": "code",
   "execution_count": 19,
   "id": "947b5f1b",
   "metadata": {},
   "outputs": [
    {
     "name": "stdout",
     "output_type": "stream",
     "text": [
      "             question answer\n",
      "0  이 조항이 소비자에게 불리한가요?      1\n",
      "1  이 조항이 소비자에게 불리한가요?      1\n",
      "2  이 조항이 소비자에게 불리한가요?      1\n",
      "3  이 조항이 소비자에게 불리한가요?      1\n",
      "4  이 조항이 소비자에게 불리한가요?      1\n"
     ]
    }
   ],
   "source": [
    "# ✅ 1. law_qa_df 저장\n",
    "law_qa_df.to_pickle(\"/mnt/e/chatbot_project_data/law_chatbot_dataset/law_qa_df.pkl\")\n",
    "\n",
    "# ✅ 2. 저장된 파일 다시 로드\n",
    "df_check = pd.read_pickle(\"/mnt/e/chatbot_project_data/law_chatbot_dataset/law_qa_df.pkl\")\n",
    "\n",
    "# ✅ 3. 상위 5개 확인\n",
    "print(df_check.head(5))"
   ]
  },
  {
   "cell_type": "code",
   "execution_count": null,
   "id": "0ae40dd9",
   "metadata": {},
   "outputs": [],
   "source": []
  }
 ],
 "metadata": {
  "kernelspec": {
   "display_name": ".venv",
   "language": "python",
   "name": "python3"
  },
  "language_info": {
   "codemirror_mode": {
    "name": "ipython",
    "version": 3
   },
   "file_extension": ".py",
   "mimetype": "text/x-python",
   "name": "python",
   "nbconvert_exporter": "python",
   "pygments_lexer": "ipython3",
   "version": "3.10.12"
  }
 },
 "nbformat": 4,
 "nbformat_minor": 5
}
